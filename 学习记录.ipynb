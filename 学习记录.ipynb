{
 "cells": [
  {
   "cell_type": "markdown",
   "metadata": {},
   "source": [
    "# 主要内容\n",
    "- 坚持写Blog\n",
    "- jupyter notebook的用法\n",
    "- 变量\n",
    "- 跟vi/vim的编辑模式很像"
   ]
  },
  {
   "cell_type": "code",
   "execution_count": 11,
   "metadata": {
    "collapsed": false
   },
   "outputs": [
    {
     "name": "stdout",
     "output_type": "stream",
     "text": [
      "我喜欢\n",
      "13 13\n",
      "我喜欢 I love zhugerui I am zhannan\n"
     ]
    }
   ],
   "source": [
    "# 声明的三种格式\n",
    "# 格式1\n",
    "s = \"我喜欢\"\n",
    "print(s)\n",
    "\n",
    "# 格式2\n",
    "s2 = s1 = \"13\"\n",
    "print(s2,s1)\n",
    "\n",
    "# 格式3\n",
    "s1, s2, s3 = \"我喜欢\", \"I love zhugerui\", \"I am zhannan\"\n",
    "print(s1,s2,s3)"
   ]
  },
  {
   "cell_type": "markdown",
   "metadata": {},
   "source": [
    "# 变量类型\n",
    "- 严格意义上讲，python只有一个类型\n",
    "- 标准数据类型六种\n",
    "  - 数字Number\n",
    "  - 字符串类型 str\n",
    "  - 列表 list\n",
    "  - 元组 tuple\n",
    "  - 字典 dict\n",
    "  - 集合 set"
   ]
  },
  {
   "cell_type": "markdown",
   "metadata": {},
   "source": [
    "# 数字类型 Number\n",
    "- python中的数字没有大小限制\n",
    "# 常见数字分类\n",
    "- 整数\n",
    "  - 没有小数部分\n",
    "  - 包含正数，负数，0\n",
    "  - 二进制\n",
    "    - 只有0，1\n",
    "    - 以0b开头的01串\n",
    "    - 例如：\n",
    "        - 0b110\n",
    "        - 0b11110\n",
    "  - 八进制\n",
    "    - 以0o开头的0到7之间的数字串\n",
    "    - 例如：\n",
    "      - 0o71\n",
    "  - 十六进制\n",
    "    - 以0x组成的有 0-9，a-f构成的串\n",
    "- 浮点数\n",
    "- 科学计数法\n",
    "- 复数"
   ]
  },
  {
   "cell_type": "code",
   "execution_count": 18,
   "metadata": {
    "collapsed": false
   },
   "outputs": [
    {
     "name": "stdout",
     "output_type": "stream",
     "text": [
      "6\n",
      "30\n"
     ]
    }
   ],
   "source": [
    "# 二进制定义\n",
    "a1 = 0b110\n",
    "print(a1)\n",
    "\n",
    "a2 = 0b11110\n",
    "print (a2)"
   ]
  },
  {
   "cell_type": "code",
   "execution_count": 20,
   "metadata": {
    "collapsed": false
   },
   "outputs": [
    {
     "name": "stdout",
     "output_type": "stream",
     "text": [
      "57\n"
     ]
    }
   ],
   "source": [
    "# 八进制的案例\n",
    "a3 = 0o71\n",
    "print (a3)"
   ]
  },
  {
   "cell_type": "code",
   "execution_count": 23,
   "metadata": {
    "collapsed": false
   },
   "outputs": [
    {
     "name": "stdout",
     "output_type": "stream",
     "text": [
      "65535\n",
      "21490\n"
     ]
    }
   ],
   "source": [
    "# 十六进制案例\n",
    "a4 = 0xffff\n",
    "print(a4)\n",
    "\n",
    "a5 = 0x53f2\n",
    "print (a5)"
   ]
  },
  {
   "cell_type": "markdown",
   "metadata": {},
   "source": [
    "# 浮点数\n",
    "- 就是通俗意义上的小数\n",
    "- 常见的案例格式\n",
    "  - 3.1415926\n",
    "  - 3.\n",
    "  - 0.4\n",
    "  - .4\n",
    "# 科学计数法\n",
    "- 定义跟数学定义一致\n",
    "- 写法就是e后面跟整数用来表示10的指数"
   ]
  },
  {
   "cell_type": "code",
   "execution_count": 27,
   "metadata": {
    "collapsed": false
   },
   "outputs": [
    {
     "name": "stdout",
     "output_type": "stream",
     "text": [
      "184\n",
      "184.0\n",
      "0.2\n"
     ]
    }
   ],
   "source": [
    "# 科学计数法\n",
    "height = 184\n",
    "print(height)\n",
    "\n",
    "height =1.84e2\n",
    "print(height)\n",
    "\n",
    "a = .2\n",
    "print(a)"
   ]
  },
  {
   "cell_type": "markdown",
   "metadata": {},
   "source": [
    "# 复数 complex\n",
    "- 与数学定义一致\n",
    "- 复数的虚部用j/J表示\n",
    "-例如：\n",
    "  - 5+4j\n",
    "  - 4j\n",
    "  - (4j)"
   ]
  },
  {
   "cell_type": "code",
   "execution_count": 29,
   "metadata": {
    "collapsed": false
   },
   "outputs": [
    {
     "name": "stdout",
     "output_type": "stream",
     "text": [
      "4j\n"
     ]
    }
   ],
   "source": [
    "a = 4j\n",
    "print(a)"
   ]
  },
  {
   "cell_type": "markdown",
   "metadata": {},
   "source": [
    "# 布尔值\n",
    "- 布尔值就是用来表示真假的值\n",
    "- 只有两个值：True/False\n",
    "- 在Python中，布尔值可以当数字使用\n",
    "  - 布尔值如果当数字使用，True=1, False=0\n",
    "  - 如果数字用来当作布尔值使用， 0=False,其余当做True"
   ]
  },
  {
   "cell_type": "code",
   "execution_count": 38,
   "metadata": {
    "collapsed": false
   },
   "outputs": [
    {
     "name": "stdout",
     "output_type": "stream",
     "text": [
      "19\n",
      "18\n",
      "负数是True\n"
     ]
    }
   ],
   "source": [
    "# 布尔值当做数字使用\n",
    "\n",
    "age = 18 + True\n",
    "print(age)\n",
    "\n",
    "age = 18 + False\n",
    "print(age)\n",
    "\n",
    "\n",
    "# 判断语句\n",
    "a = -4\n",
    "\n",
    "\n",
    "if a:\n",
    "    print(\"负数是True\")\n",
    "else:\n",
    "    print(\"负数是False\")"
   ]
  },
  {
   "cell_type": "markdown",
   "metadata": {},
   "source": [
    "# 字符串\n",
    "- 表达文字信息的内容，比如“我爱谁谁谁”\n",
    "- 形式上是引号引起来的一段内容\n",
    "- 引号包括\n",
    "  - 单引号\n",
    "  - 双引号\n",
    "  - 三引号，可以用来表示多行信息\n",
    "- 单双引号含义一致"
   ]
  },
  {
   "cell_type": "code",
   "execution_count": 46,
   "metadata": {
    "collapsed": false
   },
   "outputs": [
    {
     "name": "stdout",
     "output_type": "stream",
     "text": [
      "Wo Ai Shei\n",
      "I Love Sheiiii\n",
      "\n",
      "我\n",
      "爱你呀\n",
      "谁谁谁\n",
      "\n"
     ]
    }
   ],
   "source": [
    "# 字符串案例\n",
    "\n",
    "love = \"Wo Ai Shei\"\n",
    "print(love)\n",
    "\n",
    "love2 ='I Love Sheiiii'\n",
    "print(love2)\n",
    "\n",
    "# 三引号可以表示多行\n",
    "love3 = \"\"\"\n",
    "我\n",
    "爱你呀\n",
    "谁谁谁\n",
    "\"\"\"\n",
    "print(love3)\n",
    "\n",
    "# 以下案例说明单双引号只能引用一行\n",
    "\n",
    "#love4 = \"\n",
    "#我\n",
    "#是\n",
    "#谁\n",
    "#\"\n",
    "#print(love4)"
   ]
  },
  {
   "cell_type": "markdown",
   "metadata": {},
   "source": [
    "# None类型\n",
    "- 表示没有，通常用来占位\n",
    "- 比如返回，用来表示返回一个空"
   ]
  },
  {
   "cell_type": "markdown",
   "metadata": {},
   "source": [
    "# 表达式\n",
    "- 由一个或者几个数字或者变量或者运算符合成的一行代码\n",
    "- 通常返回一个结果\n",
    "# 运算符\n",
    "- 由一个以上的值经过一系列的运算得到新值的过程就叫运算\n",
    "- 用来操作运算的符号叫运算符\n",
    "- 运算符分类\n",
    "  - 算数运算符\n",
    "  - 比较或者关系运算符\n",
    "  - 赋值运算符\n",
    "  - 逻辑运算符\n",
    "  - 位运算（用的比较少）\n",
    "  - 成员运算符\n",
    "  - 身份运算符"
   ]
  },
  {
   "cell_type": "code",
   "execution_count": 49,
   "metadata": {
    "collapsed": false
   },
   "outputs": [],
   "source": [
    "# 表达式案例\n",
    "a = 1 + 2"
   ]
  },
  {
   "cell_type": "markdown",
   "metadata": {},
   "source": [
    "## 算数运算符\n",
    "- 用来进行算数运算的符号\n",
    "- 通常用来表示加减乘除\n",
    "- python没有自增自减运算符"
   ]
  },
  {
   "cell_type": "code",
   "execution_count": 58,
   "metadata": {
    "collapsed": false
   },
   "outputs": [
    {
     "name": "stdout",
     "output_type": "stream",
     "text": [
      "7\n",
      "11\n",
      "16\n",
      "4.5\n",
      "-2.25\n",
      "4\n",
      "1\n",
      "-3\n",
      "49\n"
     ]
    }
   ],
   "source": [
    "# 算数运算符案例\n",
    "\n",
    "# 加减乘跟数学一一基本一致\n",
    "\n",
    "a = 9 - 2\n",
    "print(a)\n",
    "\n",
    "b = 9 + 2\n",
    "print(b)\n",
    "\n",
    "c = 8 * 2\n",
    "print(c)\n",
    "\n",
    "# python出发分为普通除法，地板除，取余\n",
    "\n",
    "# 正常除法\n",
    "# 此操作符在python2.x 和 3.x中有些不同\n",
    "a = 9 / 2\n",
    "print(a)\n",
    "\n",
    "# 除以负数的结果\n",
    "a = 9 / -4\n",
    "print(a)\n",
    "\n",
    "\n",
    "# 地板除,取整\n",
    "a = 9 // 2\n",
    "print(a)\n",
    "\n",
    "# 取余\n",
    "a = 9 % 2\n",
    "print(a)\n",
    "\n",
    "# 除以负数的结果\n",
    "# 理解这个结果参考取余的定义\n",
    "a = 9 % -4\n",
    "print(a)\n",
    "\n",
    "# 两个乘号就是指数\n",
    "a = 7 ** 2\n",
    "print(a)"
   ]
  },
  {
   "cell_type": "markdown",
   "metadata": {},
   "source": [
    "# 比较运算符\n",
    "- 对两个内容进行比较的运算符\n",
    "- 结果一定是布尔值，即 True/False"
   ]
  },
  {
   "cell_type": "code",
   "execution_count": 63,
   "metadata": {
    "collapsed": false
   },
   "outputs": [
    {
     "name": "stdout",
     "output_type": "stream",
     "text": [
      "False\n",
      "True\n",
      "False\n",
      "True\n"
     ]
    }
   ],
   "source": [
    "# 等于 ==\n",
    "a = 3 == 4\n",
    "print(a)\n",
    "\n",
    "# 不等于  !=\n",
    "a = 3 != 4\n",
    "print(a)\n",
    "\n",
    "# 其他的符号是\n",
    "# >, >=,< , <=\n",
    "\n",
    "print(3 >= 8)\n",
    "\n",
    "print(\"zhugerui\">\"yaobenben\")"
   ]
  },
  {
   "cell_type": "markdown",
   "metadata": {},
   "source": [
    "# 赋值运算符\n",
    "- 把一个值放到变量里边去"
   ]
  },
  {
   "cell_type": "code",
   "execution_count": 69,
   "metadata": {
    "collapsed": false
   },
   "outputs": [
    {
     "name": "stdout",
     "output_type": "stream",
     "text": [
      "3\n",
      "6\n"
     ]
    }
   ],
   "source": [
    "# 赋值符号 =\n",
    "a = 9\n",
    "\n",
    "# 复杂赋值\n",
    "a = b = 9\n",
    "a,b = 1,2\n",
    "\n",
    "# 赋值的缩写\n",
    "d = 0\n",
    "d = d + 3\n",
    "print(d)\n",
    "\n",
    "# 注意下面的符号仅仅是一个缩写\n",
    "d += 3   # d = d + 3\n",
    "print(d)\n",
    "\n",
    "## 所有数学运算符都可以缩写\n",
    "# -= ，*= ，/= ，//= ，%= ，**=，都是缩写\n",
    "# python里面皆有++ , --"
   ]
  },
  {
   "cell_type": "markdown",
   "metadata": {},
   "source": [
    "# 逻辑运算符\n",
    "- 对布尔类型变量或者值进行运算的符号\n",
    "- and:  逻辑与\n",
    "- or :  逻辑或\n",
    "- not:  逻辑非\n",
    "- python里面的逻辑运算没有异或\n",
    "- 运算规则：\n",
    "  - and看做惩罚，or看做加法\n",
    "  - True看做1，False看做0\n",
    "  - 则逻辑运算就能转换成整数数学运算\n",
    "  - 最后结果如果是0则为False，否则为True\n",
    "- 逻辑运算的短路问题\n",
    "  - 逻辑运算式，按照运算顺序计算，一旦能够确定整个式子未来的值，则不再进行计算，直接返回"
   ]
  },
  {
   "cell_type": "code",
   "execution_count": 74,
   "metadata": {
    "collapsed": false
   },
   "outputs": [
    {
     "name": "stdout",
     "output_type": "stream",
     "text": [
      "True\n",
      "False\n",
      "False\n"
     ]
    }
   ],
   "source": [
    "# 逻辑表达举例\n",
    "a = True\n",
    "b = True\n",
    "c = False\n",
    "\n",
    "aa = a and b # 左边表达式可以转换成 1*1\n",
    "print(aa)\n",
    "\n",
    "bb = a and c\n",
    "print(bb)\n",
    "\n",
    "cc = 100 and c\n",
    "print(cc)\n",
    "\n",
    "# 布尔值跟数字的转换\n",
    "# 数字转换成布尔值的时候，0 = false, 其余是true\n",
    "# 布尔值转换成数字的时候：True=1, False=0"
   ]
  },
  {
   "cell_type": "code",
   "execution_count": 76,
   "metadata": {
    "collapsed": false
   },
   "outputs": [
    {
     "name": "stdout",
     "output_type": "stream",
     "text": [
      "True\n"
     ]
    }
   ],
   "source": [
    "# 短路问题案例\n",
    "a = True \n",
    "b = True\n",
    "c = False\n",
    "\n",
    "aa = a or b and (a and b) # 转换成算数1 + ........\n",
    "print(aa)"
   ]
  },
  {
   "cell_type": "code",
   "execution_count": 84,
   "metadata": {
    "collapsed": false
   },
   "outputs": [
    {
     "name": "stdout",
     "output_type": "stream",
     "text": [
      "a\n",
      "b\n",
      "True\n",
      "********************\n",
      "a\n",
      "True\n"
     ]
    }
   ],
   "source": [
    "# 短路问题案例2\n",
    "def a():\n",
    "    print('a')\n",
    "    return True\n",
    "\n",
    "def b():\n",
    "    print(\"b\")\n",
    "    return True\n",
    "\n",
    "aaa = a() and b()\n",
    "print(aaa)\n",
    " \n",
    "# 字符串乘以数字，表示对是这个字符串重复多少遍\n",
    "print(\"*\" * 20)\n",
    "\n",
    "bbb = a() or b()  #短路发生\n",
    "print(bbb)"
   ]
  },
  {
   "cell_type": "markdown",
   "metadata": {},
   "source": [
    "# 成员运算符\n",
    "- 用来检测一个值或者变量是否在某个集合里面\n",
    "- in: 成员运算符\n",
    "- not in: 不在里边的意思"
   ]
  },
  {
   "cell_type": "code",
   "execution_count": 87,
   "metadata": {
    "collapsed": false
   },
   "outputs": [
    {
     "name": "stdout",
     "output_type": "stream",
     "text": [
      "False\n",
      "True\n"
     ]
    }
   ],
   "source": [
    "# in 案例\n",
    "\n",
    "L = [1,2,3,4,5]\n",
    "a = 6\n",
    "aa = a in L\n",
    "print(aa)\n",
    "\n",
    "aa = a not in L\n",
    "print(aa)"
   ]
  },
  {
   "cell_type": "markdown",
   "metadata": {},
   "source": [
    "# 身份运算符\n",
    "- 用来确定两个变量是否是同一变量\n",
    "- is:  变量运算符\n",
    "- is not: 不是\n",
    "- 学Python的想必都知道，对整数N \\in[-5,256],解释器对他们做了单独的处理，放进了固定的内存中， 不因你每次运行而变化\n",
    "\n",
    "这里在记录一些相关的。\n",
    "\n",
    "不仅对小整数有这样的处理，内建的类（int，staticmamethod,object,TypeError,,,）也都是这样处理的。\n",
    "看一个变量的内存是不是这样处理的，无序运行两次，只要看id（）编号的长度就行，他们都是10位的，普通变量都是十三位的。\n",
    "其实并不是每次运行结果都是一样的，比如重启一下电脑再试试。\n",
    "不同弄的软件打开的同一个python解释器结果也是不同的（最先打开那个会影响其他的），比如我的电脑上先打开pycharm、cmd、jupyter得到的是不同的结果。\n",
    "   只要把解释器全部关闭再打开某一个，其余的都会是这个软件的值。\n",
    "   电脑不关机的话，软件重复关闭打开的id值是一样的。\n",
    "   （当然同一台电脑上的不同python解释器结果肯定也不相同，不同电脑那就更不用说了）"
   ]
  },
  {
   "cell_type": "code",
   "execution_count": 92,
   "metadata": {
    "collapsed": false
   },
   "outputs": [
    {
     "name": "stdout",
     "output_type": "stream",
     "text": [
      "False\n",
      "False\n",
      "True\n"
     ]
    }
   ],
   "source": [
    "# 身份运算符定义\n",
    "a = 1\n",
    "b = 10097984546\n",
    "\n",
    "aa = a is b\n",
    "print(aa)\n",
    "\n",
    "# 正确理解下面案例跟上面案例的不同\n",
    "# a ,b仅仅是值一样，并不代表a, b是一个变量\n",
    "a = 135467946\n",
    "b = 135467946\n",
    "\n",
    "aa = a is b\n",
    "print(aa)\n",
    "\n",
    "a = 5\n",
    "b = 5\n",
    "\n",
    "aa = a is b\n",
    "print(aa)"
   ]
  },
  {
   "cell_type": "markdown",
   "metadata": {},
   "source": [
    "# 运算符优先级问题\n",
    "- 小括号具有最高优先级\n",
    "\n",
    "\n",
    "    ** 指数 （最高优先级）\n",
    "    ~ + -按位翻转，一元加号和减号（最后两个方法名为+@和-@）\n",
    "    * / % //   乘，除，取模和取整除\n",
    "    + - 加法减法\n",
    "    >> <<  右移，左移运算符\n",
    "    &  位 'AND'\n",
    "    ^ | 位运算符\n",
    "    <= < > >=  比较运算符 \n",
    "    <> == !=     等于运算符\n",
    "    = %= /= //= -= += *= **=  赋值运算符\n",
    "    is is not  身份运算符\n",
    "    in not in  成员运算符\n",
    "    not or and 逻辑运算符"
   ]
  },
  {
   "cell_type": "markdown",
   "metadata": {},
   "source": [
    "# 程序结构\n",
    "- 程序三种结构\n",
    "  - 顺序\n",
    "  - 循环\n",
    "  - 分支"
   ]
  },
  {
   "cell_type": "markdown",
   "metadata": {},
   "source": [
    "# 分支结构\n",
    "- 分支结构基本语法\n",
    "\n",
    "   if 条件表达式\n",
    "       语句1\n",
    "       语句2\n",
    "       语句3\n",
    "       ........\n",
    "    \n",
    "- 条件表达式就是计算结果必须为布尔值的表达式\n",
    "- 表达式后面的冒号不能少\n",
    "- 注意if后面的出现的语句，如果属于if语句块，则必须同一个缩进等级\n",
    "- 条件表达式结果为True执行if后面的缩进的语句块"
   ]
  },
  {
   "cell_type": "code",
   "execution_count": 98,
   "metadata": {
    "collapsed": false
   },
   "outputs": [
    {
     "name": "stdout",
     "output_type": "stream",
     "text": [
      "姚犇犇发财啦\n",
      "姚犇犇娶老婆啦\n",
      "日子还得过呀\n",
      "日子还得过呀\n"
     ]
    }
   ],
   "source": [
    "# if 语句联系\n",
    "# 如果你们都买我的习题课，我就发财了\n",
    "a = \"都买习题课\"\n",
    "if a:\n",
    "    print(\"姚犇犇发财啦\")\n",
    "    print(\"姚犇犇娶老婆啦\")\n",
    "    \n",
    "print(\"日子还得过呀\")\n",
    "\n",
    "\n",
    "# 字符串的真假\n",
    "# 只有空字符串为False，其余全为True\n",
    "\n",
    "a = \"\"\n",
    "if a:\n",
    "    print(\"姚犇犇发财啦\")\n",
    "    print(\"姚犇犇娶老婆啦\")\n",
    "    \n",
    "print(\"日子还得过呀\")"
   ]
  },
  {
   "cell_type": "code",
   "execution_count": 100,
   "metadata": {
    "collapsed": false
   },
   "outputs": [
    {
     "name": "stdout",
     "output_type": "stream",
     "text": [
      "喝酒去\n",
      "下次你请我\n"
     ]
    }
   ],
   "source": [
    "# if联系而\n",
    "age = 19\n",
    "if age >16:\n",
    "    print(\"喝酒去\")\n",
    "    \n",
    "\n",
    "print(\"下次你请我\")"
   ]
  },
  {
   "cell_type": "markdown",
   "metadata": {},
   "source": [
    "# 双向分支\n",
    "- if...else..表达\n",
    "- 语法结构：\n",
    "\n",
    "  if条件表达式\n",
    "    \n",
    "    语句1\n",
    "    \n",
    "    语句2\n",
    "    \n",
    "    ...\n",
    "  \n",
    "  else\n",
    "    \n",
    "    语句1\n",
    "    \n",
    "    语句2\n",
    "    \n",
    "    ..."
   ]
  },
  {
   "cell_type": "code",
   "execution_count": 102,
   "metadata": {
    "collapsed": false
   },
   "outputs": [
    {
     "name": "stdout",
     "output_type": "stream",
     "text": [
      "姚犇犇发财\n",
      "娶了林志玲\n",
      "日子越来越好\n"
     ]
    }
   ],
   "source": [
    "a = \"25\"\n",
    "if a:\n",
    "    print(\"姚犇犇发财\")\n",
    "    print(\"娶了林志玲\")\n",
    "else:\n",
    "    print(\"继续吃土\")\n",
    "    \n",
    "print(\"日子越来越好\")"
   ]
  },
  {
   "cell_type": "code",
   "execution_count": 109,
   "metadata": {
    "collapsed": false
   },
   "outputs": [
    {
     "name": "stdout",
     "output_type": "stream",
     "text": [
      "请输入您的性别man\n",
      "man\n",
      "走，喝酒剃头\n",
      "一起玩去呀\n"
     ]
    }
   ],
   "source": [
    "# input的作用是\n",
    "# 1. 在屏幕上输出括号内的字符串\n",
    "# 2. 接收用户输入的内容并返回到程序\n",
    "# 3. input返回的内容一定是字符串类型\n",
    "\n",
    "# input负责接收用户输入并把内容返回给变量\n",
    "gender = input(\"请输入您的性别\")\n",
    "# 打印输入内容\n",
    "print(gender)\n",
    "\n",
    "if gender == \"man\":\n",
    "   print(\"走，喝酒剃头\")\n",
    "   print(\"一起玩去呀\")\n",
    "else:\n",
    "    print(\"你到底是个啥子呀\")\n",
    "    print(\"哈哈哈\")\n"
   ]
  },
  {
   "cell_type": "code",
   "execution_count": 5,
   "metadata": {
    "collapsed": false
   },
   "outputs": [
    {
     "name": "stdout",
     "output_type": "stream",
     "text": [
      "请输入成绩，必须是数字99\n",
      "你考得很好呀\n"
     ]
    }
   ],
   "source": [
    "# 考试成绩判断\n",
    "# 成绩由用户输入\n",
    "# 90以上：输出优秀\n",
    "# 80-90： 良\n",
    "# 70-80： 中\n",
    "# 60-70： 平\n",
    "# 60以下：输出：我没你这撒学生\n",
    "\n",
    "# 输入成绩，需要用到input函数\n",
    "# input输入的值全部是字符串类型\n",
    "score = input(\"请输入成绩，必须是数字\")\n",
    "\n",
    "# 解决输入时字符串的问题\n",
    "score = int(score)\n",
    "if score >= 90:\n",
    "    print(\"你考得很好呀\")\n",
    "if score >= 80 and score < 90:\n",
    "    print(\"一般啊\")\n",
    "if score >= 70 and score < 80:\n",
    "    print(\"还行\")\n",
    "if score >= 60 and score < 70:\n",
    "    print(\"及格\")\n",
    "if score < 60:\n",
    "    print(\"下次继续\")"
   ]
  },
  {
   "cell_type": "markdown",
   "metadata": {},
   "source": [
    "# 多路分支\n",
    "- 很多分支的情况，叫多路分支\n",
    "\n",
    "   if  条件表达式：\n",
    "     \n",
    "     语句1\n",
    "     \n",
    "     ...\n",
    "   \n",
    "   elif  条件表达式：\n",
    "     \n",
    "     语句1\n",
    "     \n",
    "     ...\n",
    "   \n",
    "   elif  条件表达式：\n",
    "     \n",
    "     语句1\n",
    "     \n",
    "     ...\n",
    "   \n",
    "   else  条件表达式：\n",
    "     \n",
    "     语句1\n",
    "     \n",
    "     ...\n",
    "\n",
    "- elif可以有好多个，根据实际情况\n",
    "- else可选\n",
    "- 多路分支最多只会执行一种情况\n",
    "# if语句补充\n",
    "- if语句可以嵌套使用，不推荐\n",
    "- python没有switch语句   "
   ]
  },
  {
   "cell_type": "code",
   "execution_count": 10,
   "metadata": {
    "collapsed": false
   },
   "outputs": [
    {
     "name": "stdout",
     "output_type": "stream",
     "text": [
      "请输入学生成绩99\n",
      "A\n"
     ]
    }
   ],
   "source": [
    "# score 存放学生主成绩\n",
    "# 注意inout的返回值类型\n",
    "score = input(\"请输入学生成绩\")\n",
    "# 需要把str转换成int\n",
    "score = int(score)\n",
    "\n",
    "if score >= 90:\n",
    "    print(\"A\")\n",
    "elif score >= 80:\n",
    "    print(\"B\")\n",
    "elif score >= 70:\n",
    "    print(\"C\")\n",
    "elif score >= 60:\n",
    "    print(\"D\")\n",
    "else:\n",
    "    print(\"滚开，我没你这个撒学生\")"
   ]
  },
  {
   "cell_type": "markdown",
   "metadata": {},
   "source": [
    "# 循环语句\n",
    "- 重复执行某一个固定的动作或任务\n",
    "- 分类\n",
    "   - for\n",
    "   - while\n",
    "\n",
    "# for循环\n",
    "- 语法\n",
    "    \n",
    "    for 变量 in 序列：\n",
    "      语句1\n",
    "      语句2\n",
    "      ....."
   ]
  },
  {
   "cell_type": "code",
   "execution_count": 13,
   "metadata": {
    "collapsed": false
   },
   "outputs": [
    {
     "name": "stdout",
     "output_type": "stream",
     "text": [
      "1\n",
      "101\n",
      "2\n",
      "102\n",
      "3\n",
      "103\n",
      "4\n",
      "104\n",
      "5\n",
      "105\n",
      "6\n",
      "106\n",
      "7\n",
      "107\n"
     ]
    }
   ],
   "source": [
    "# 列表知识以后会将\n",
    "# 比如 [1,2,3,4,5,6,7]\n",
    "\n",
    "list_one = [1,2,3,4,5,6,7]\n",
    "\n",
    "for shuzi in list_one:\n",
    "    print(shuzi)\n",
    "    print(shuzi+100)"
   ]
  },
  {
   "cell_type": "code",
   "execution_count": 1,
   "metadata": {
    "collapsed": false
   },
   "outputs": [
    {
     "name": "stdout",
     "output_type": "stream",
     "text": [
      "打扰了\n",
      "打扰了\n",
      "打扰了\n"
     ]
    }
   ],
   "source": [
    "# 打印学生列表姓名\n",
    "# 如果是林志玲，那肯定是我的最爱呀\n",
    "# 如果是别的学生，那肯定要拒绝她\n",
    "\n",
    "stu_list = ['诸葛锐','谢丹玲','王美丽']\n",
    "\n",
    "for stu in stu_list:\n",
    "    if stu ==\"林志玲\":\n",
    "       print(\"玲玲你去了哪里啊\")\n",
    "    else:\n",
    "        print(\"打扰了\")    "
   ]
  },
  {
   "cell_type": "markdown",
   "metadata": {},
   "source": [
    "# for-else语句\n",
    "- for循环结束的时候，有时候需要执行一些收尾工作，此时需要使用else语句\n",
    "- else语句是可选"
   ]
  },
  {
   "cell_type": "code",
   "execution_count": 7,
   "metadata": {
    "collapsed": false
   },
   "outputs": [
    {
     "name": "stdout",
     "output_type": "stream",
     "text": [
      "锐锐你去了哪里\n",
      "对不起,打扰了\n",
      "对不起,打扰了\n",
      "不会再爱了\n"
     ]
    }
   ],
   "source": [
    "# for-else语句\n",
    "# 打印列表中的同学\n",
    "# 如果没有在列表中，或者列表结束了，我们需要打印提示语句，表示不再爱了\n",
    "\n",
    "stu_list = ['朱戈锐','姚珊珊','谢丹玲']\n",
    "\n",
    "for stu in stu_list:\n",
    "    if stu ==\"朱戈锐\":\n",
    "       print(\"锐锐你去了哪里\")\n",
    "    else:\n",
    "        print(\"对不起,打扰了\")\n",
    "else:\n",
    "    print(\"不会再爱了\")"
   ]
  },
  {
   "cell_type": "markdown",
   "metadata": {},
   "source": [
    "# break, continue, pass\n",
    "- break:无条件结束整个循环，简称循环猝死\n",
    "- continue: 继续\n",
    "- pass: 只是占位符号,代表这句话啥也不干，没有跳过功能"
   ]
  },
  {
   "cell_type": "code",
   "execution_count": 9,
   "metadata": {
    "collapsed": false
   },
   "outputs": [
    {
     "name": "stdout",
     "output_type": "stream",
     "text": [
      "3\n",
      "4\n",
      "6\n",
      "哈哈哈，找到了\n"
     ]
    }
   ],
   "source": [
    "# 确定一个数字队列中是否包含数字7\n",
    "# 确定是否包含，只要找到一个即可确定，不需要再继续往下找了，所以使用break\n",
    "\n",
    "dig_list = [3,4,6,7,54,3,23,2,4,7]\n",
    "\n",
    "for dig in dig_list:\n",
    "    if dig == 7:\n",
    "        print(\"哈哈哈，找到了\")\n",
    "        break\n",
    "    else:\n",
    "        print(dig)"
   ]
  },
  {
   "cell_type": "code",
   "execution_count": 22,
   "metadata": {
    "collapsed": false
   },
   "outputs": [
    {
     "name": "stdout",
     "output_type": "stream",
     "text": [
      "2\n",
      "哈哈，你是双的\n",
      "4\n",
      "哈哈，你是双的\n",
      "6\n",
      "哈哈，你是双的\n",
      "8\n",
      "哈哈，你是双的\n",
      "10\n",
      "哈哈，你是双的\n",
      "2\n",
      "哈哈，你是双的\n",
      "4\n",
      "哈哈，你是双的\n",
      "6\n",
      "哈哈，你是双的\n",
      "8\n",
      "哈哈，你是双的\n",
      "10\n",
      "哈哈，你是双的\n"
     ]
    }
   ],
   "source": [
    "# continue语句练习\n",
    "# 在数字1-10中，寻找所有偶数，找到偶数后打印偶数\n",
    "\n",
    "dig_list = [1,2,3,4,5,6,7,8,9,10]\n",
    "\n",
    "'''\n",
    "# continue案例1\n",
    "'''\n",
    "for dig in dig_list:\n",
    "    if dig % 2 == 0:\n",
    "        print(dig)\n",
    "        print(\"哈哈，你是双的\")\n",
    "    else:\n",
    "        continue\n",
    "'''\n",
    "# 此段代码跟上面的代码等价\n",
    "'''\n",
    "for dig in dig_list:\n",
    "    if dig % 2 == 1:\n",
    "         continue\n",
    "         \n",
    "    print(dig)\n",
    "    print(\"哈哈，你是双的\")\n",
    "\n"
   ]
  },
  {
   "cell_type": "code",
   "execution_count": 24,
   "metadata": {
    "collapsed": false
   },
   "outputs": [
    {
     "name": "stdout",
     "output_type": "stream",
     "text": [
      "你还小\n"
     ]
    }
   ],
   "source": [
    "# pass案例1\n",
    "\n",
    "age = 19\n",
    "if age > 19:\n",
    "    pass\n",
    "else:\n",
    "    print(\"你还小\")"
   ]
  },
  {
   "cell_type": "code",
   "execution_count": 26,
   "metadata": {
    "collapsed": false
   },
   "outputs": [
    {
     "name": "stdout",
     "output_type": "stream",
     "text": [
      "2\n",
      "23\n",
      "43\n",
      "54\n",
      "65\n",
      "2\n"
     ]
    }
   ],
   "source": [
    "# pass案例2\n",
    "\n",
    "ages = [2,23,43,54,65,2]\n",
    "for age in ages:\n",
    "    pass\n",
    "    print(age)"
   ]
  },
  {
   "cell_type": "markdown",
   "metadata": {},
   "source": [
    "# range函数\n",
    "- 生成有序数列\n",
    "- 生成数字队列可以定制"
   ]
  },
  {
   "cell_type": "code",
   "execution_count": 28,
   "metadata": {
    "collapsed": false
   },
   "outputs": [
    {
     "name": "stdout",
     "output_type": "stream",
     "text": [
      "1\n",
      "2\n",
      "3\n",
      "4\n",
      "5\n",
      "6\n",
      "7\n",
      "8\n",
      "9\n",
      "10\n",
      "11\n",
      "12\n",
      "13\n",
      "14\n",
      "15\n",
      "16\n",
      "17\n",
      "18\n",
      "19\n",
      "20\n",
      "21\n",
      "22\n",
      "23\n",
      "24\n",
      "25\n",
      "26\n",
      "27\n",
      "28\n",
      "29\n",
      "30\n",
      "31\n",
      "32\n",
      "33\n",
      "34\n",
      "35\n",
      "36\n",
      "37\n",
      "38\n",
      "39\n",
      "40\n",
      "41\n",
      "42\n",
      "43\n",
      "44\n",
      "45\n",
      "46\n",
      "47\n",
      "48\n",
      "49\n",
      "50\n",
      "51\n",
      "52\n",
      "53\n",
      "54\n",
      "55\n",
      "56\n",
      "57\n",
      "58\n",
      "59\n",
      "60\n",
      "61\n",
      "62\n",
      "63\n",
      "64\n",
      "65\n",
      "66\n",
      "67\n",
      "68\n",
      "69\n",
      "70\n",
      "71\n",
      "72\n",
      "73\n",
      "74\n",
      "75\n",
      "76\n",
      "77\n",
      "78\n",
      "79\n",
      "80\n",
      "81\n",
      "82\n",
      "83\n",
      "84\n",
      "85\n",
      "86\n",
      "87\n",
      "88\n",
      "89\n",
      "90\n",
      "91\n",
      "92\n",
      "93\n",
      "94\n",
      "95\n",
      "96\n",
      "97\n",
      "98\n",
      "99\n",
      "100\n"
     ]
    }
   ],
   "source": [
    "# range案例1 \n",
    "# 生成一个从1到100的数字序列\n",
    "# range的生成序列的两个而数字是左包括右边不包括\n",
    "dig_list = range(1,101)\n",
    "for dig in dig_list:\n",
    "    print(dig)\n",
    "\n",
    "    \n",
    "# 一般在python中，连个表示范围的数字都是左边包括右边不包括，randint函数是个特例\n",
    "# range函数在python2和python3.x中有严重区别"
   ]
  },
  {
   "cell_type": "code",
   "execution_count": 30,
   "metadata": {
    "collapsed": false
   },
   "outputs": [
    {
     "name": "stdout",
     "output_type": "stream",
     "text": [
      "1\n",
      "2\n",
      "3\n",
      "4\n",
      "5\n",
      "6\n",
      "7\n",
      "8\n",
      "9\n"
     ]
    }
   ],
   "source": [
    "# rangr案例3\n",
    "# 打印从1到9的数字\n",
    "for i in range(1,10):\n",
    "    print(i)"
   ]
  },
  {
   "cell_type": "markdown",
   "metadata": {},
   "source": [
    "# while循环\n",
    "- 一个循环语句\n",
    "- 表示当条件成立的时候，就循环，适应于不知道具体循环次数，但能确定在某个条件成立的情况下就循环\n",
    "- while语法：\n",
    "     \n",
    "      while 条件表达式：\n",
    "         语句块\n",
    "         \n",
    "       # 另外一种表达方法\n",
    "       while  条件表达式：\n",
    "           语句块1 \n",
    "       else：\n",
    "           语句块2"
   ]
  },
  {
   "cell_type": "code",
   "execution_count": 35,
   "metadata": {
    "collapsed": false
   },
   "outputs": [
    {
     "name": "stdout",
     "output_type": "stream",
     "text": [
      "11\n",
      "11\n"
     ]
    }
   ],
   "source": [
    "# 如果说年利率是6.7%，本利是每年翻滚，则多少年后本钱会翻倍\n",
    "\n",
    "benqian = 10000\n",
    "year = 0 # 存放需要翻本的年数\n",
    "\n",
    "\n",
    "while benqian < 20000:\n",
    "    benqian = benqian * (1 + 0.067)\n",
    "    year += 1  # year = year + 1\n",
    "    \n",
    "print(year)\n",
    "\n",
    "# 年利率案例2\n",
    "# 本案例中循环体没有被执行，why? 如何改正\n",
    "# else一定会被执行\n",
    "while benqian < 20000:\n",
    "    benqian = benqian * (1 + 0.067)\n",
    "    year += 1  # year = year + 1\n",
    "else:\n",
    "    print(year)\n"
   ]
  },
  {
   "cell_type": "markdown",
   "metadata": {},
   "source": [
    "# 函数\n",
    "- 函数是代码的一种组织形式\n",
    "- 函数应该能完成意向特定的工作，而且一般一个函数值能完成一项工作\n",
    "- 有些语言，分函数和过程两个概念，通俗解释是，有返回结果的叫函数，无返回结果的叫过程，python不加以区分\n",
    "- 函数的使用\n",
    "   - 函数的使用需要先定义\n",
    "   - 使用函数，俗称调用"
   ]
  },
  {
   "cell_type": "code",
   "execution_count": 36,
   "metadata": {
    "collapsed": false
   },
   "outputs": [
    {
     "name": "stdout",
     "output_type": "stream",
     "text": [
      "函数结束了\n"
     ]
    }
   ],
   "source": [
    "# 定义一个函数\n",
    "# 只是定义的话不会执行\n",
    "# 1. def关键字，后跟一个空格\n",
    "# 2. 函数名，自己定义，起名需要遵循便令命名规则，约定俗成，大驼峰命名只给类用\n",
    "# 3. 后面括号和冒号不能省，括号内可以由参数\n",
    "# 4. 函数内所有代码缩进\n",
    "\n",
    "\n",
    "def func():\n",
    "    print(\"我是一个函数\")\n",
    "    print(\"爱谁谁\")\n",
    "    \n",
    "print(\"函数结束了\")"
   ]
  },
  {
   "cell_type": "code",
   "execution_count": 38,
   "metadata": {
    "collapsed": false
   },
   "outputs": [
    {
     "name": "stdout",
     "output_type": "stream",
     "text": [
      "我是一个函数\n",
      "爱谁谁\n"
     ]
    }
   ],
   "source": [
    "# 函数的电泳\n",
    "# 直接写出函数名，后面小括号不能够省略，括号内内容根据情况\n",
    "func()"
   ]
  },
  {
   "cell_type": "code",
   "execution_count": null,
   "metadata": {
    "collapsed": true
   },
   "outputs": [],
   "source": []
  }
 ],
 "metadata": {
  "anaconda-cloud": {},
  "kernelspec": {
   "display_name": "Python [conda root]",
   "language": "python",
   "name": "conda-root-py"
  },
  "language_info": {
   "codemirror_mode": {
    "name": "ipython",
    "version": 3
   },
   "file_extension": ".py",
   "mimetype": "text/x-python",
   "name": "python",
   "nbconvert_exporter": "python",
   "pygments_lexer": "ipython3",
   "version": "3.5.2"
  }
 },
 "nbformat": 4,
 "nbformat_minor": 1
}
